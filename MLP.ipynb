{
  "nbformat": 4,
  "nbformat_minor": 0,
  "metadata": {
    "colab": {
      "name": "MLP.ipynb",
      "provenance": [],
      "authorship_tag": "ABX9TyPY3sjpjgG7+EgkDEJHyjOg",
      "include_colab_link": true
    },
    "kernelspec": {
      "name": "python3",
      "display_name": "Python 3"
    }
  },
  "cells": [
    {
      "cell_type": "markdown",
      "metadata": {
        "id": "view-in-github",
        "colab_type": "text"
      },
      "source": [
        "<a href=\"https://colab.research.google.com/github/jesperiksson/struc-mon/blob/master/MLP.ipynb\" target=\"_parent\"><img src=\"https://colab.research.google.com/assets/colab-badge.svg\" alt=\"Open In Colab\"/></a>"
      ]
    },
    {
      "cell_type": "markdown",
      "metadata": {
        "id": "D6BNyq2S0tex",
        "colab_type": "text"
      },
      "source": [
        "Provide a path to the directory of the data files to use"
      ]
    },
    {
      "cell_type": "code",
      "metadata": {
        "id": "xGe61qOEx1Yz",
        "colab_type": "code",
        "colab": {
          "base_uri": "https://localhost:8080/",
          "height": 118
        },
        "outputId": "13cb80a6-5303-4ed2-c1d5-dfaf5d95db5f"
      },
      "source": [
        "from google.colab import drive\n",
        "drive.mount('/content/drive')"
      ],
      "execution_count": 2,
      "outputs": [
        {
          "output_type": "stream",
          "text": [
            "Go to this URL in a browser: https://accounts.google.com/o/oauth2/auth?client_id=947318989803-6bn6qk8qdgf4n4g3pfee6491hc0brc4i.apps.googleusercontent.com&redirect_uri=urn%3aietf%3awg%3aoauth%3a2.0%3aoob&response_type=code&scope=email%20https%3a%2f%2fwww.googleapis.com%2fauth%2fdocs.test%20https%3a%2f%2fwww.googleapis.com%2fauth%2fdrive%20https%3a%2f%2fwww.googleapis.com%2fauth%2fdrive.photos.readonly%20https%3a%2f%2fwww.googleapis.com%2fauth%2fpeopleapi.readonly\n",
            "\n",
            "Enter your authorization code:\n",
            "··········\n",
            "Mounted at /content/drive\n"
          ],
          "name": "stdout"
        }
      ]
    },
    {
      "cell_type": "markdown",
      "metadata": {
        "id": "m0ieTs4z1V-C",
        "colab_type": "text"
      },
      "source": [
        "All of the settings"
      ]
    },
    {
      "cell_type": "code",
      "metadata": {
        "id": "DVsJIvJI1WHm",
        "colab_type": "code",
        "colab": {}
      },
      "source": [
        "use = 'MLP'\n",
        "name = 'onlineMLP_1'\n",
        "#####################\n",
        "\n",
        "architecture = {\n",
        "    'name' :use + name,\n",
        "    'active_sensors' : ['90'],\n",
        "    'predict' : 'accelerations', # accelerations or damage\n",
        "    'data_path' : '/content/drive/My Drive/KTH/Examensarbete/struc-mon (kopia)/our_measurements3/e90',\n",
        "    'random_mode' : 'test' # test or debug\n",
        "    }\n",
        "sensor_dict = {}\n",
        "for i in range(len(architecture['active_sensors'])):\n",
        "    sensor_dict.update({\n",
        "        architecture['active_sensors'][i] : i\n",
        "        })\n",
        "architecture.update({\n",
        "    'sensors' : sensor_dict\n",
        "    })\n",
        "architecture.update({\n",
        "        'model' : 'two_layer',\n",
        "        # Net configuaration\n",
        "        'n_units' : {'first' : 500, 'second' : 250},\n",
        "        'bias' : True,\n",
        "        'n_pattern_steps' : 1000, # Kan ändras\n",
        "        'n_target_steps' : 100,\n",
        "        'pattern_delta' : 40,\n",
        "        # Sensor parameters\n",
        "        'pattern_sensors' : ['90'],\n",
        "        'target_sensor' : '90',\n",
        "        'target_sensors' : ['90'],\n",
        "        # Training parameters\n",
        "        'batch_size' : 30,\n",
        "        'data_split' : {'train':60, 'validation':20, 'test':20}, # sorting of data \n",
        "        'mode' : '1',\n",
        "        'delta' : 1, # Kan ändras\n",
        "        'Dense_activation' : 'tanh',\n",
        "        'early_stopping' : True,\n",
        "        'epochs' : 200,\n",
        "        'learning_rate' : 0.001, # 0.001 by default\n",
        "        'min_delta' : 0.001,\n",
        "        'preprocess_type' : 'data',\n",
        "        'patience' : 50,\n",
        "        # Data interval\n",
        "        'from' : 0,\n",
        "        'to' : -1,\n",
        "        # Model saving\n",
        "        'save_periodically' : True,\n",
        "        'save_interval' : 1, # Number of series to train on before saving\n",
        "        'model_path' : '/content/drive/My Drive/KTH/Examensarbete/struc-mon (kopia)/models/',\n",
        "        # Classification\n",
        "        'limit' : 0.9\n",
        "    })"
      ],
      "execution_count": 0,
      "outputs": []
    },
    {
      "cell_type": "markdown",
      "metadata": {
        "id": "LFJNTlhQ1vRQ",
        "colab_type": "text"
      },
      "source": [
        "This function creates instances of the `DataBatch` class, where each batch contains one data series, a.k.a one passage. There are subclasses `data`, `peaks`, `extrema` and `frequency`. Data contains the entire series, peaks contains all peak accelerations, extrema contains all local and global extreme values and frquency contains a frequency spectrum. "
      ]
    },
    {
      "cell_type": "code",
      "metadata": {
        "id": "wh0E-x7N1vWR",
        "colab_type": "code",
        "colab": {}
      },
      "source": [
        "import os\n",
        "import random\n",
        "import numpy as np\n",
        "import h5py\n",
        "import scipy as sp\n",
        "import scipy.signal\n",
        "def fit_to_NN(\n",
        "        data_split, \n",
        "        path, \n",
        "        healthy_percentage, \n",
        "        arch):\n",
        "    \n",
        "    types = arch['preprocess_type']\n",
        "    paths = {}\n",
        "\n",
        "    for i in range(len(arch['active_sensors'])):\n",
        "        paths.update(\n",
        "            {arch['active_sensors'][i] : path+'s'+arch['active_sensors'][i]+'/'})\n",
        "    if arch['random_mode'] == 'debug':\n",
        "        seed = 1\n",
        "    elif arch['random_mode'] == 'test':\n",
        "        seed = random.randint(0,10000)\n",
        "    file_list = os.listdir(paths[arch['active_sensors'][0]])\n",
        "    file_list.sort()\n",
        "    random.Random(seed).shuffle(file_list)\n",
        "\n",
        "    speeds = np.empty([len(file_list)])\n",
        "    for i in range(len(file_list)):\n",
        "        if len(file_list[i]) == 9:\n",
        "            speeds[i] = int(file_list[i][0:5])\n",
        "        elif len(file_list[i]) == 10:\n",
        "            speeds[i] = int(file_list[i][0:6])\n",
        "        else: \n",
        "            print('error')\n",
        "    normalized_speeds = (speeds-min(speeds))/(max(speeds)-min(speeds))\n",
        "\n",
        "    n_files = len(file_list)\n",
        "    data_stack = {}\n",
        "    preprocess_stack = {}\n",
        "    peaks_stack = {}\n",
        "    frequency_stack = {}\n",
        "    extrema_stack = {}\n",
        "    start = arch['from']\n",
        "    to = arch['to']\n",
        "    diff = to-start\n",
        "    for i in range(n_files):\n",
        "        data = [None]*len(paths)\n",
        "        for j in range(len(paths)):\n",
        "            mat = h5py.File(paths[arch['active_sensors'][j]] + file_list[i], 'r')\n",
        "            data[j] = mat.get('acc')[1,start:to]\n",
        "\n",
        "        if i/n_files < (data_split['train']/100):\n",
        "            category = 'train'\n",
        "        elif i/n_files > (data_split['validation']/100) and i/n_files < ((data_split['train']+data_split['validation'])/100):\n",
        "            category = 'validation'\n",
        "        else:\n",
        "            category = 'test'\n",
        "        if 'data' in types:\n",
        "            data_stack.update({\n",
        "                'batch'+str(i) : DataBatch(data,\n",
        "                                 i,\n",
        "                                 speeds[i]/1000,\n",
        "                                 normalized_speeds[i],\n",
        "                                 category,\n",
        "                                 healthy_percentage)\n",
        "                                })\n",
        "        if 'frequency' in types:\n",
        "            frequency_stack.update({\n",
        "                'batch'+str(i) : frequencySpectrum(data,\n",
        "                                 i,\n",
        "                                 speeds[i]/1000,\n",
        "                                 normalized_speeds[i],\n",
        "                                 category,\n",
        "                                 healthy_percentage)\n",
        "                                })\n",
        "        if 'peaks' in types:\n",
        "            peaks_stack.update({\n",
        "                'batch'+str(i) : peaks(data,\n",
        "                                 i,\n",
        "                                 speeds[i]/1000,\n",
        "                                 normalized_speeds[i],\n",
        "                                 category,\n",
        "                                 healthy_percentage)\n",
        "                                })\n",
        "        if 'extrema' in types:\n",
        "            extrema_stack.update({\n",
        "            'batch'+str(i) : extrema(data,\n",
        "                             i,\n",
        "                             speeds[i]/1000,\n",
        "                             normalized_speeds[i],\n",
        "                             category,\n",
        "                             healthy_percentage)\n",
        "                            })\n",
        "\n",
        "    preprocess_stack.update({\n",
        "        'data' : data_stack,\n",
        "        'frequency' : frequency_stack,\n",
        "        'peaks' : peaks_stack,\n",
        "        'extrema' : extrema_stack\n",
        "        })    \n",
        "\n",
        "    return preprocess_stack"
      ],
      "execution_count": 0,
      "outputs": []
    },
    {
      "cell_type": "markdown",
      "metadata": {
        "id": "4gVvLT6X2yYw",
        "colab_type": "text"
      },
      "source": [
        "`DataBatch` base class. `__init__` function creates instance with all the useful attributes. "
      ]
    },
    {
      "cell_type": "code",
      "metadata": {
        "id": "q10zTj502yf_",
        "colab_type": "code",
        "colab": {}
      },
      "source": [
        "class DataBatch():\n",
        "    def __init__(self, data, batch_num, speed, normalized_speed, category, damage_state):\n",
        "        self.data = np.array(data)\n",
        "        self.unnormalized_data = np.array(data)\n",
        "        for i in range(np.shape(data)[0]):\n",
        "            self.data[i,:] = self.data[i,:]/max(abs(self.data[i,:]))\n",
        "        #self.data = preprocessing.normalize(self.data)\n",
        "        self.sensors = np.shape(data)[0]\n",
        "        self.batch_num = batch_num\n",
        "        self.category = category\n",
        "        self.n_steps = np.shape(self.data)[1]\n",
        "        self.speed = {'km/h' : speed, 'm/s' : (speed*3.6/10)}\n",
        "        self.normalized_speed = normalized_speed\n",
        "        self.damage_state = damage_state\n",
        "        self.normalized_damage_state = damage_state/100\n",
        "        self.timestep = 0.001\n",
        "        self.timesteps = np.arange(0, self.n_steps, 1)\n",
        "        self.steps = [None]*self.sensors\n",
        "        self.indices = [None]*self.sensors\n",
        "        self.delta = [None]*self.sensors\n",
        "        for i in range(self.sensors):\n",
        "            self.steps[i] = self.n_steps"
      ],
      "execution_count": 0,
      "outputs": []
    },
    {
      "cell_type": "markdown",
      "metadata": {
        "id": "Elc3AJ6V3JEK",
        "colab_type": "text"
      },
      "source": [
        "The two modes of dividing the available data into sets. Which one is used is decided by the `'mode'` parameter below training parameters in `architecture`. \n",
        "\n",
        "`data_split_mode1` takes the available healthy data assigned for validation and test according to the `'data_split'` parameter (below training parameters in architecture) and puts it aside. (Usually it is `{'train':60, 'validation':20, 'test':20}`).\n",
        "Furthermore, it sets all available unhealthy data as test data.\n",
        "\n",
        "`data_split_mode2` divides all available data, both healthy and unhealthy according to the `'data_split'` parameter. "
      ]
    },
    {
      "cell_type": "code",
      "metadata": {
        "id": "EWo-KlDo3JJu",
        "colab_type": "code",
        "colab": {}
      },
      "source": [
        "def data_split_mode2(a):\n",
        "    series_stack = {}\n",
        "    damage_dir_list = os.listdir(a['path'])\n",
        "    for j in range(len(damage_dir_list)):\n",
        "        series_stack.update({\n",
        "            damage_dir_list[j] : fit_to_NN(\n",
        "                a['data_split'],\n",
        "                a['data_path']+'/'+damage_dir_list[j]+'/', \n",
        "                int(damage_dir_list[j][:-1]),\n",
        "                a)\n",
        "            })\n",
        "    return series_stack\n",
        "\n",
        "def data_split_mode1(a):\n",
        "    series_stack = {}\n",
        "    damage_dir_list = os.listdir(a['data_path'])\n",
        "    for j in range(len(damage_dir_list)):\n",
        "        if damage_dir_list[j] == '100%':\n",
        "            series_stack.update({\n",
        "                damage_dir_list[j] : fit_to_NN(\n",
        "                    a['data_split'],\n",
        "                    a['data_path']+'/'+damage_dir_list[j]+'/',\n",
        "                    int(damage_dir_list[j][:-1]),\n",
        "                    a)\n",
        "                })\n",
        "        else:\n",
        "            series_stack.update({\n",
        "                damage_dir_list[j] : fit_to_NN(\n",
        "                    {'train' : 0, 'validation' : 0, 'test' : 100},\n",
        "                    a['data_path']+'/'+damage_dir_list[j]+'/',\n",
        "                    int(damage_dir_list[j][:-1]),\n",
        "                    a)\n",
        "                })\n",
        "    return series_stack"
      ],
      "execution_count": 0,
      "outputs": []
    },
    {
      "cell_type": "markdown",
      "metadata": {
        "id": "WwWjl3_s55Cq",
        "colab_type": "text"
      },
      "source": [
        "The aforementioned `peaks` class. The `self.timesteps` attribute contains the indices of the timesteps where the peak accelerations occur. "
      ]
    },
    {
      "cell_type": "code",
      "metadata": {
        "id": "5G0lLt-y55LN",
        "colab_type": "code",
        "colab": {}
      },
      "source": [
        "class peaks(DataBatch):\n",
        "    def __init__(self, data, batch_num, speed, normalized_speed, category, damage_state):  \n",
        "        super().__init__(data, batch_num, speed, normalized_speed, category, damage_state)\n",
        "        self.peaks = [None]*self.sensors\n",
        "        for i in range(self.sensors):\n",
        "            self.indices[i], properties = sp.signal.find_peaks(\n",
        "                self.data[i], \n",
        "                height = None, \n",
        "                threshold = None,\n",
        "                distance = 2,\n",
        "                prominence = None,\n",
        "                width = None)\n",
        "            self.peaks[i] = self.data[i][self.indices[i]]\n",
        "            \n",
        "            delta = np.diff(self.indices[i])\n",
        "            self.delta[i] = delta/max(delta)\n",
        "        self.n_steps = np.shape(self.peaks[0])[0] # overwrite data\n",
        "        self.timesteps = self.indices[0]\n",
        "        self.data = self.peaks "
      ],
      "execution_count": 0,
      "outputs": []
    },
    {
      "cell_type": "markdown",
      "metadata": {
        "id": "nrsfJWyt6pY2",
        "colab_type": "text"
      },
      "source": [
        "Piece of code which activates the chosen split function."
      ]
    },
    {
      "cell_type": "code",
      "metadata": {
        "id": "4Qew8aVZ6phS",
        "colab_type": "code",
        "colab": {}
      },
      "source": [
        "    if architecture['mode'] == '1':\n",
        "        series_stack = data_split_mode1(architecture)\n",
        "        '''\n",
        "        This is the normal case where all available data is divided into train/ test/ validation\n",
        "        '''\n",
        "\n",
        "    elif architecture['mode'] == '2':\n",
        "        series_stack = data_split_mode2(architecture)\n",
        "        '''\n",
        "        This is special case where only healthy data is used for training and \n",
        "        all damaged data is used for testing.\n",
        "        '''\n",
        "    #series_stack"
      ],
      "execution_count": 0,
      "outputs": []
    },
    {
      "cell_type": "markdown",
      "metadata": {
        "id": "wkf5uJNa_t_Q",
        "colab_type": "text"
      },
      "source": [
        "Have a look at the data we're working with:"
      ]
    },
    {
      "cell_type": "code",
      "metadata": {
        "id": "YKQJacTU_uGy",
        "colab_type": "code",
        "colab": {
          "base_uri": "https://localhost:8080/",
          "height": 326
        },
        "outputId": "91e93c36-ec84-40bb-bd29-3a6a77ae89f0"
      },
      "source": [
        "import matplotlib.pyplot as plt\n",
        "def plot_batch(stack, arch, plot_sensor = '90'): \n",
        "    stack = stack[arch['preprocess_type']]\n",
        "    side = min(int(np.floor(np.sqrt(len(stack)))),7)\n",
        "    fig, axs = plt.subplots(7, 2, constrained_layout=True)\n",
        "    k = 0\n",
        "    for i in range(7):            \n",
        "        for j in range(2):        \n",
        "            series = stack['batch'+str(k)]\n",
        "            axs[i][j].plot(series.timesteps, series.unnormalized_data[arch['sensors'][plot_sensor],:], 'b', linewidth=0.1)\n",
        "            #plt.plot(stack[key].peaks_indices[sensor], stack[key].peaks[sensor], 'ro', linewidth = 0.4)\n",
        "            axs[i][j].set_title(str(series.speed['km/h'])+'km/h')\n",
        "            #plt.set_xlabel('timesteps')\n",
        "            #plt.set_ylabel('acceleration')\n",
        "            k += 1\n",
        "        k += 1\n",
        "    plt.suptitle(str(series.damage_state)+'% Healthy at mid-span, registered at sensor: '+plot_sensor)\n",
        "    name = 'E'+str(series.damage_state)+'_d90_s'+plot_sensor+'.png'\n",
        "    #print(name)\n",
        "    #plt.savefig(name)\n",
        "    plt.show()\n",
        "\n",
        "    return\n",
        "DataBatch.plot_batch = plot_batch\n",
        "DataBatch.plot_batch(series_stack['100%'], architecture)"
      ],
      "execution_count": 9,
      "outputs": [
        {
          "output_type": "stream",
          "text": [
            "/usr/local/lib/python3.6/dist-packages/IPython/core/pylabtools.py:125: UserWarning: constrained_layout not applied.  At least one axes collapsed to zero width or height.\n",
            "  fig.canvas.print_figure(bytes_io, **kw)\n"
          ],
          "name": "stderr"
        },
        {
          "output_type": "display_data",
          "data": {
            "image/png": "[encoded data removed]",
            "text/plain": [
              "<Figure size 432x288 with 14 Axes>"
            ]
          },
          "metadata": {
            "tags": [],
            "needs_background": "light"
          }
        }
      ]
    },
    {
      "cell_type": "markdown",
      "metadata": {
        "id": "wdciiDys62NI",
        "colab_type": "text"
      },
      "source": [
        "Some necessary modules and objects. It is important to use the tensorflow implementation af the Keras API."
      ]
    },
    {
      "cell_type": "code",
      "metadata": {
        "id": "CPKZls-v62U9",
        "colab_type": "code",
        "colab": {}
      },
      "source": [
        "import time\n",
        "import tensorflow as tf\n",
        "from tensorflow import keras\n",
        "from tensorflow.python.keras.models import Model, model_from_json\n",
        "from tensorflow.python.keras.layers import Input, Dense, concatenate, Activation\n",
        "from tensorflow.python.keras.callbacks import EarlyStopping\n",
        "from tensorflow.python.keras import metrics, regularizers\n",
        "from tensorflow.keras.utils import plot_model\n",
        "from tensorflow.python.keras import backend"
      ],
      "execution_count": 0,
      "outputs": []
    },
    {
      "cell_type": "markdown",
      "metadata": {
        "id": "jeGYOe-M_PEN",
        "colab_type": "text"
      },
      "source": [
        "`NeuralNet` class. Most importantly contains the `self.model` attribute. The `model_dict` dictionary variable must be updated once a new model architecture is added. "
      ]
    },
    {
      "cell_type": "code",
      "metadata": {
        "id": "zJy_ReQF_PK7",
        "colab_type": "code",
        "colab": {}
      },
      "source": [
        "class NeuralNet():\n",
        "    def __init__(self,\n",
        "                 arch,\n",
        "                 name,\n",
        "                 existing_model = False):\n",
        "\n",
        "        self.arch = arch\n",
        "        self.name = name\n",
        "        self.target_sensor = self.arch['sensors'][self.arch['target_sensor']]\n",
        "        self.pattern_sensors = self.arch['sensors'][self.arch['pattern_sensors'][0]]\n",
        "        self.sensor_to_predict = arch['sensors'][arch['target_sensor']]\n",
        "        if arch['early_stopping'] == True:\n",
        "            self.early_stopping = [keras.callbacks.EarlyStopping(\n",
        "                monitor='loss',\n",
        "                min_delta=arch['min_delta'], \n",
        "                patience=arch['patience'],\n",
        "                verbose=1,\n",
        "                mode='auto',\n",
        "                restore_best_weights=True)]\n",
        "\n",
        "        else:\n",
        "            self.early_stopping = None\n",
        "        self.existing_model = existing_model\n",
        "        self.n_sensors = len(arch['sensors'])    \n",
        "        model_dict = {\n",
        "            'single_layer' : set_up_model3(arch),\n",
        "            'two_layer' : set_up_model5(arch)\n",
        "            }     \n",
        "        if self.existing_model == False:\n",
        "            model = model_dict[arch['model']]\n",
        "\n",
        "        elif self.existing_model == True:\n",
        "            model_path = arch['model_path']+self.arch['name']+'.json'\n",
        "            weights_path = arch['model_path']+self.arch['name']+'.h5'\n",
        "            json_file = open(model_path)\n",
        "            loaded_model_json = json_file.read()\n",
        "            json_file.close()\n",
        "            loaded_model = model_from_json(loaded_model_json)\n",
        "            loaded_model.load_weights(weights_path)\n",
        "            model = loaded_model\n",
        "            print('\\n Loaded model: ', name)\n",
        "        else:\n",
        "            raise Error\n",
        "        optimizer = keras.optimizers.Adam(\n",
        "            learning_rate = arch['learning_rate'],\n",
        "            beta_1=0.9,\n",
        "            beta_2=0.999,\n",
        "            epsilon=1e-07,\n",
        "            amsgrad=False)\n",
        "        model.compile(\n",
        "            optimizer=optimizer, \n",
        "            loss=rmse, \n",
        "            metrics=[rmse])\n",
        "        plot_model(model, to_file=name+'.png')\n",
        "        model.summary()\n",
        "        self.model = model\n",
        "        self.score = None\n",
        "        self.loss = [None]"
      ],
      "execution_count": 0,
      "outputs": []
    },
    {
      "cell_type": "markdown",
      "metadata": {
        "id": "Uxldwa9-AFtO",
        "colab_type": "text"
      },
      "source": [
        "The training method for the `NeuralNet` class. As arguments it requires firstly a `NeuralNet` object and secondly a dictionary of training series. The dictionary shall contain keys which indicate the damage state and values which, in turn, are also dictionaries. These dictionaries contains key-value pairs where the different data manipulations (i.e. data, peaks, extrema and frequency) are keys and the corresponding series stacks are the values. Finally, the series stacks are dictionaries where all the `DataBatch` objects have keys `batch0`, `batch1`, ... and so forth.\n",
        "I know this is a bit convoluted but it is what allows the entire program to be maniuplated via the `architecture` variable. \n",
        "\n",
        "The training process uses one series at a time to train. It is implemented this way because of hardware limitations on the machine this program was initially developed on but for this Colab implementation it would make more sense to put all available data into one large training set. \n",
        "\n",
        "The `x` and `y` arguments are provided as dictionaries since different models might use different inputs. This way the model will only use the variables it requests. \n",
        "\n",
        "The model is saved intermediatley if the `'save_periodically'` below Model Saving in `architecture` is set to `True` at intervals specified by `'save_interval'`."
      ]
    },
    {
      "cell_type": "code",
      "metadata": {
        "id": "HKFIKvF3AF3-",
        "colab_type": "code",
        "colab": {}
      },
      "source": [
        "    def train(self, series_stacks):\n",
        "        tic = time.time()\n",
        "        self.history = [None]\n",
        "        self.loss = [None]\n",
        "        self.val_loss = [None]\n",
        "        keys = list(series_stacks.keys())\n",
        "        for h in range(len(keys)):\n",
        "            series_stack = series_stacks[keys[h]]\n",
        "            print('\\nTraining on ', keys[h],'% healthy data.\\n')\n",
        "            print('\\n Number of series being used for training:', len(series_stack[self.arch['preprocess_type']]), '\\n')\n",
        "            X, Y = generator(self, series_stack, ['train', 'validation'])\n",
        "            if np.shape(X)[0] == 0:\n",
        "                pass\n",
        "            else:\n",
        "              patterns = {\n",
        "                  #'speed_input' : np.array([series.normalized_speed]),\n",
        "                  #'damage_input' : series.normalized_damage_state\n",
        "                  }\n",
        "              for j in range(len(self.arch['active_sensors'])):\n",
        "                  patterns.update({\n",
        "                      'accel_input_'+str(self.arch['pattern_sensors'][j]) : X # Ange vilken\n",
        "                  })\n",
        "              targets = {\n",
        "                  'accel_output_'+str(self.arch['pattern_sensors'][j]) : Y,\n",
        "                  #'damage_state_output' : series.normalized_damage_state CHANGE TO STACK KEY\n",
        "                  }           \n",
        "              history = self.model.fit(\n",
        "                  x = X,#patterns,\n",
        "                  y = Y,#targets, \n",
        "                  batch_size = self.arch['batch_size'],\n",
        "                  epochs=self.arch['epochs'], \n",
        "                  verbose=1,\n",
        "                  callbacks=self.early_stopping, #self.learning_rate_scheduler],\n",
        "                  validation_split = self.arch['data_split']['validation']/100,\n",
        "                  shuffle = True)\n",
        "              self.history.append(history)\n",
        "              self.loss.extend(history.history['loss'])\n",
        "              self.val_loss.extend(history.history['val_loss'])  \n",
        "              if self.arch['save_periodically'] == True and i % self.arch['save_interval'] == 0:\n",
        "                  save_model(self.model,self.arch)  \n",
        "        self.model.summary()\n",
        "        self.toc = np.round(time.time()-tic,1)\n",
        "        print('Elapsed time: ', self.toc)\n",
        "        return\n",
        "    NeuralNet.train = train"
      ],
      "execution_count": 0,
      "outputs": []
    },
    {
      "cell_type": "markdown",
      "metadata": {
        "id": "G1htE2_3FGoW",
        "colab_type": "text"
      },
      "source": [
        "The Tensorflow and NumPy respective implementations of the Root mean square error function. "
      ]
    },
    {
      "cell_type": "code",
      "metadata": {
        "id": "ENWH2mneFGvf",
        "colab_type": "code",
        "colab": {}
      },
      "source": [
        "def rmse(true, prediction):\n",
        "    return backend.sqrt(backend.mean(backend.square(prediction - true), axis=-1))\n",
        "def rmse_np(true, prediction):\n",
        "    return np.sqrt(np.mean(np.square(prediction - true), axis=-1))"
      ],
      "execution_count": 0,
      "outputs": []
    },
    {
      "cell_type": "markdown",
      "metadata": {
        "id": "rbgZDf8aHQ1P",
        "colab_type": "text"
      },
      "source": [
        "The generator function takes a series via the `batch` argument and reshapes it into the form that fits the model. The form is specified via the `'n_pattern_steps'`, `'n_target_steps'` and `'pattern_delta'` arguments in `architecture`. \n",
        "\n",
        "Here is an example of what `generator` returns if `'n_pattern_steps'` is 4, `'n_target_steps'` is 2 and `'pattern_delta'` is 3. (Given that the total number of acceleration signals $m$ in the series happens to line up with the configuration. If it doesn't the last few acceleration signals are omitted.)\n",
        "\n",
        "$series = (a_{1}, a_{2}, ..., a_{m})$\n",
        "\n",
        "$pattern_1 = (a_{1}, a_{2}, a_{3}), target_1 = (a_{4}, a_{5})$\n",
        "\n",
        "$pattern_2 = (a_{4}, a_{5}, a_{6}), target_2 = (a_{7}, a_{8})$\n",
        "\n",
        "$pattern_n = (a_{m-4}, a_{m-3}, a_{m-2}), target_n = (a_{m-1}, a_{m})$ "
      ]
    },
    {
      "cell_type": "code",
      "metadata": {
        "id": "sZ2LTLR7HQ6d",
        "colab_type": "code",
        "colab": {}
      },
      "source": [
        "def generator(self, stack, categories):\n",
        "    X = np.empty([0,self.arch['n_pattern_steps'],len(self.arch['pattern_sensors'])])\n",
        "    Y = np.empty([0,self.arch['n_target_steps']])\n",
        "    for i in range(len(stack[self.arch['preprocess_type']])):\n",
        "      series = stack[self.arch['preprocess_type']]['batch'+str(i)]\n",
        "      if series.category in categories:\n",
        "          #print('\\nFitting series: ', i, ' out of:', len(stack[self.arch['preprocess_type']]))\n",
        "          steps = get_steps(self, series)\n",
        "          #print(steps)\n",
        "          x = np.empty([steps,self.arch['n_pattern_steps'], len(self.arch['pattern_sensors'])])\n",
        "          y = np.empty([steps,self.arch['n_target_steps']])\n",
        "          for j in range(len(self.arch['pattern_sensors'])):     \n",
        "              for k in range(steps):    \n",
        "                  pattern_start = k*self.arch['pattern_delta']\n",
        "                  pattern_finish = k*self.arch['pattern_delta']+self.arch['delta']*self.arch['n_pattern_steps']\n",
        "                  target_start = k*self.arch['pattern_delta']+self.arch['delta']*self.arch['n_pattern_steps'] # +1?\n",
        "                  target_finish = k*self.arch['pattern_delta']+self.arch['delta']*(self.arch['n_pattern_steps']+self.arch['n_target_steps'])\n",
        "                  x[k,:,j] = series.data[j][pattern_start:pattern_finish]\n",
        "                  y[k,:] = series.data[j][target_start:target_finish]\n",
        "          X = np.append(X,x,axis=0)\n",
        "          Y = np.append(Y,y,axis=0)\n",
        "    return X, Y"
      ],
      "execution_count": 0,
      "outputs": []
    },
    {
      "cell_type": "markdown",
      "metadata": {
        "id": "GygpFqr3MuLY",
        "colab_type": "text"
      },
      "source": [
        "`get_steps` calculates the number $n$ in the example above, i.e. the number of targets and patterns that fit into a series.l"
      ]
    },
    {
      "cell_type": "code",
      "metadata": {
        "id": "kI5VkYlwMuTh",
        "colab_type": "code",
        "colab": {}
      },
      "source": [
        "def get_steps(self, series):\n",
        "    steps = int(\n",
        "        np.floor(\n",
        "            (series.n_steps-(self.arch['n_pattern_steps']+self.arch['n_target_steps']))/self.arch['pattern_delta']\n",
        "        )\n",
        "    )\n",
        "    return steps  "
      ],
      "execution_count": 0,
      "outputs": []
    },
    {
      "cell_type": "markdown",
      "metadata": {
        "id": "hE4AILSHNDca",
        "colab_type": "text"
      },
      "source": [
        "Utility function for saving the model. The save location is specified in `'model_save_path'` in `architecture`"
      ]
    },
    {
      "cell_type": "code",
      "metadata": {
        "id": "8pjSYNBjNDjp",
        "colab_type": "code",
        "colab": {}
      },
      "source": [
        "def save_model(model, arch):\n",
        "    print(arch)\n",
        "    model_json = model.to_json()\n",
        "    with open(arch['model_path']+arch['name']+'.json', 'w') as json_file:\n",
        "        json_file.write(model_json)\n",
        "        # serialize weights to HDF5\n",
        "    model.save_weights(arch['model_path']+name+'.h5')\n",
        "    print('Saved model:', name)"
      ],
      "execution_count": 0,
      "outputs": []
    },
    {
      "cell_type": "markdown",
      "metadata": {
        "id": "3Dz_l2BEOKGy",
        "colab_type": "text"
      },
      "source": [
        "Function for plotting the evolution of the train and validation losses during training. "
      ]
    },
    {
      "cell_type": "code",
      "metadata": {
        "id": "Zhcc22lqOKMa",
        "colab_type": "code",
        "colab": {}
      },
      "source": [
        "def plot_loss(self, name):\n",
        "    plt.figure()\n",
        "    plt.plot(range(len(self.loss)), self.loss, 'bo', label='Training loss', linewidth=0.3)\n",
        "    plt.plot(range(len(self.val_loss)), self.val_loss, 'ro', label='Validation loss', linewidth=0.3)\n",
        "    plt.title('Training and validation loss')\n",
        "    plt.xlabel('Epochs')\n",
        "    plt.ylabel('Loss - RMSE')\n",
        "    plt.legend()\n",
        "    plt.savefig(fname = name+'_loss_plot.png')\n",
        "    plt.show() "
      ],
      "execution_count": 0,
      "outputs": []
    },
    {
      "cell_type": "markdown",
      "metadata": {
        "id": "fZUl4n6LOdZa",
        "colab_type": "text"
      },
      "source": [
        "Sets up this model: #image of model"
      ]
    },
    {
      "cell_type": "code",
      "metadata": {
        "id": "6YF2PEmoOdeu",
        "colab_type": "code",
        "colab": {}
      },
      "source": [
        "def set_up_model(arch):\n",
        "  return"
      ],
      "execution_count": 0,
      "outputs": []
    },
    {
      "cell_type": "markdown",
      "metadata": {
        "id": "OSizY44GOrkl",
        "colab_type": "text"
      },
      "source": [
        "Method for creating a forecast. The Model makes a prediction on an input of size `'n_pattern_steps'`. This prediction is appended onto said input, the `'n_pattern_steps'` first steps are removed and the result is fed back into the model. After some steps the entire input consists of predicted values. This is of course a much more difficult task for the model than to just produce predictions. "
      ]
    },
    {
      "cell_type": "code",
      "metadata": {
        "id": "h8uYVY_zOrrl",
        "colab_type": "code",
        "colab": {}
      },
      "source": [
        "def forecast(machines, manual):\n",
        "    # Machines\n",
        "    machine_keys = list(machines.keys())\n",
        "    # Shortcuts\n",
        "    machine = machines[machine_keys[0]]\n",
        "    delta = machine.arch['delta']\n",
        "    n_pattern_steps = machine.arch['n_pattern_steps']\n",
        "    n_target_steps = machine.arch['n_target_steps']\n",
        "    # Series\n",
        "    key = 'batch'+str(manual['series_to_predict']%len(manual['stack'][machine.arch['preprocess_type']]))\n",
        "    n_steps = manual['stack'][machine.arch['preprocess_type']][key].n_steps\n",
        "    series = manual['stack'][machine.arch['preprocess_type']][key]\n",
        "    n_series = int((n_steps-n_pattern_steps)/n_target_steps)\n",
        "    # Initial\n",
        "    initial_indices = np.arange(0,delta*n_pattern_steps,delta)\n",
        "    patterns = {}\n",
        "    for i in range(len(machine.arch['pattern_sensors'])):\n",
        "        patterns.update({ \n",
        "        'accel_input_'+machine.arch['pattern_sensors'][i] : \n",
        "            np.reshape(\n",
        "                series.data[machine.sensor_to_predict][initial_indices], \n",
        "                [1,machine.arch['n_pattern_steps']]\n",
        "            )\n",
        "        })\n",
        "    forecasts = patterns.copy()\n",
        "    evaluation = {}\n",
        "    for i in range(n_series+1):\n",
        "        old_patterns = patterns.copy()\n",
        "        for j in range(len(machine_keys)):\n",
        "            machine = machines[machine_keys[j]] # Pick machine\n",
        "            prediction = machine.model.predict(\n",
        "                old_patterns,\n",
        "                batch_size = 1, \n",
        "                verbose=0,\n",
        "                steps = 1) # Make prediction with machine\n",
        "            pattern = patterns['accel_input_'+machine.arch['pattern_sensors'][j]] # Extract pattern\n",
        "            pattern = np.delete(pattern,np.s_[0:n_target_steps:delta],1) # Remove first entty\n",
        "            pattern = np.hstack([pattern,prediction]) # Add prediciton last\n",
        "            patterns.update({\n",
        "                'accel_input_'+machine.arch['pattern_sensors'][j] : pattern\n",
        "                }) # Update patterns dict\n",
        "            forecast = forecasts['accel_input_'+machine.arch['pattern_sensors'][j]] #Extract forecast\n",
        "            if i == n_series: # Edge case for last bit                   \n",
        "                forecast = np.hstack(\n",
        "                    [forecast,\n",
        "                    prediction[:,:n_steps%(n_series*n_target_steps+n_pattern_steps)]]\n",
        "                    ) # Update forecast\n",
        "            else:\n",
        "                forecast = np.hstack([forecast,prediction]) # Update forecast\n",
        "            forecasts.update({\n",
        "                'accel_input_'+machine.arch['pattern_sensors'][j] : forecast\n",
        "                }) # Update forecasts dict\n",
        "    score = rmse_np(\n",
        "        series.data[j][n_pattern_steps:], \n",
        "        forecasts['accel_input_'+machine.arch['pattern_sensors'][j]][0][n_pattern_steps:])\n",
        "    speed = series.speed['km/h']\n",
        "    damage_state = series.damage_state\n",
        "    return forecasts, (score, speed, damage_state)\n",
        "NeuralNet.forecast = forecast"
      ],
      "execution_count": 0,
      "outputs": []
    },
    {
      "cell_type": "markdown",
      "metadata": {
        "id": "vlOcUPnNaPxu",
        "colab_type": "text"
      },
      "source": [
        ""
      ]
    },
    {
      "cell_type": "code",
      "metadata": {
        "id": "vLo3LQI9aP2-",
        "colab_type": "code",
        "colab": {}
      },
      "source": [
        "def set_up_model3(arch):\n",
        "    \n",
        "    accel_input = Input(\n",
        "        shape=(arch['n_pattern_steps'], ),\n",
        "        name='accel_input_'+arch['target_sensor'])\n",
        "\n",
        "    hidden_1 = Dense(\n",
        "        arch['n_units']['first'],\n",
        "        activation = arch['Dense_activation'],\n",
        "        use_bias = arch['bias'],\n",
        "        name = 'hidden_layer')(accel_input)\n",
        "\n",
        "    output = Dense(\n",
        "        arch['n_target_steps'], \n",
        "        activation='tanh', \n",
        "        name='acceleration_output')(hidden_1) \n",
        "\n",
        "    model = Model(inputs = accel_input, outputs = output)\n",
        "    return model"
      ],
      "execution_count": 0,
      "outputs": []
    },
    {
      "cell_type": "markdown",
      "metadata": {
        "id": "td7QSaxhaSLl",
        "colab_type": "text"
      },
      "source": [
        ""
      ]
    },
    {
      "cell_type": "code",
      "metadata": {
        "id": "JKmcWxXzaSQZ",
        "colab_type": "code",
        "colab": {}
      },
      "source": [
        "def set_up_model5(arch):\n",
        "    \n",
        "    accel_input = Input(\n",
        "        shape=(arch['n_pattern_steps'], ),\n",
        "        name='accel_input_90')\n",
        "\n",
        "    hidden_1 = Dense(arch['n_units']['first'],\n",
        "                     activation = arch['Dense_activation'],\n",
        "                     use_bias=arch['bias'])(accel_input)\n",
        "\n",
        "    hidden_2 = Dense(arch['n_units']['second'],\n",
        "                     activation = arch['Dense_activation'],\n",
        "                     use_bias=arch['bias'])(hidden_1)\n",
        "\n",
        "    output = Dense(arch['n_target_steps'], activation='tanh', name='acceleration_output')(hidden_2) \n",
        "    model = Model(inputs = accel_input, outputs = output)\n",
        "    return model"
      ],
      "execution_count": 0,
      "outputs": []
    },
    {
      "cell_type": "markdown",
      "metadata": {
        "id": "tXctT0E23Jn5",
        "colab_type": "text"
      },
      "source": [
        "Checking if there already is a trained model with the specified name. If so that model is loaded, if not a new one is initialized and trained. "
      ]
    },
    {
      "cell_type": "code",
      "metadata": {
        "id": "FjPlps7J3Jvp",
        "colab_type": "code",
        "colab": {
          "base_uri": "https://localhost:8080/",
          "height": 310
        },
        "outputId": "97b9f663-ed99-4bfa-e11a-656c01e89ced"
      },
      "source": [
        "\n",
        "name = architecture['name']\n",
        "machine_stack = {}\n",
        "try:\n",
        "    f = open(architecture['model_path']+name+'.json')\n",
        "    machine_stack.update({\n",
        "        name : NeuralNet(architecture,\n",
        "              name,\n",
        "              existing_model = True)\n",
        "    })\n",
        "except IOError:    \n",
        "    machine_stack.update({\n",
        "        name : NeuralNet(architecture,\n",
        "              name,\n",
        "              existing_model = False)\n",
        "    })\n",
        "    NeuralNet.train(machine_stack[name], series_stack)\n",
        "    print(machine_stack[name].model, architecture)  \n",
        "    save_model(machine_stack[name].model, architecture)\n",
        "    plot_loss(machine_stack[name], name)"
      ],
      "execution_count": 23,
      "outputs": [
        {
          "output_type": "stream",
          "text": [
            "\n",
            " Loaded model:  MLPonlineMLP_1\n",
            "Model: \"model_33\"\n",
            "_________________________________________________________________\n",
            "Layer (type)                 Output Shape              Param #   \n",
            "=================================================================\n",
            "accel_input_90 (InputLayer)  [(None, 1000)]            0         \n",
            "_________________________________________________________________\n",
            "dense_32 (Dense)             (None, 500)               500500    \n",
            "_________________________________________________________________\n",
            "dense_33 (Dense)             (None, 250)               125250    \n",
            "_________________________________________________________________\n",
            "acceleration_output (Dense)  (None, 100)               25100     \n",
            "=================================================================\n",
            "Total params: 650,850\n",
            "Trainable params: 650,850\n",
            "Non-trainable params: 0\n",
            "_________________________________________________________________\n"
          ],
          "name": "stdout"
        }
      ]
    },
    {
      "cell_type": "markdown",
      "metadata": {
        "id": "stE9RQfI5dLG",
        "colab_type": "text"
      },
      "source": [
        "This function plots RMSE (y-axis) versus speed (x-axis), and colors the datapoints according to their damage state. This makes it easy to see if the model performs better on healthy or unhealthy data, or if there is no difference. "
      ]
    },
    {
      "cell_type": "code",
      "metadata": {
        "id": "s0r8igkc5dP1",
        "colab_type": "code",
        "colab": {}
      },
      "source": [
        "import matplotlib.pyplot as plt\n",
        "import matplotlib.colors as colors\n",
        "def plot_performance(score_stack, a, pod): # pod = prediction or forecast\n",
        "    cmap = plt.cm.rainbow\n",
        "    norm = colors.Normalize(vmin=33,vmax=100)\n",
        "    percentage_keys = list(score_stack)\n",
        "    for i in range(len(percentage_keys)): # Iterates over percentages\n",
        "        for j in range(len(score_stack[percentage_keys[i]]['speeds'])):\n",
        "            plt.plot(score_stack[percentage_keys[i]]['speeds'][j], \n",
        "                     score_stack[percentage_keys[i]]['scores'][j], \n",
        "                     color=cmap(norm(score_stack[percentage_keys[i]]['damage_state'][j])), \n",
        "                     marker='o')\n",
        "    plt.xlabel('Speed [km/h]')\n",
        "    plt.ylabel('Root Mean Square Error')\n",
        "    plt.title('Sample scores for '+pod+' at sensor ' + str(a['target_sensor']))\n",
        "    sm = plt.cm.ScalarMappable(cmap=cmap, norm=norm)\n",
        "    cbar = plt.colorbar(sm)\n",
        "    cbar.set_label('Young\\'s modulus percentage', rotation=270)\n",
        "    plt.legend()\n",
        "    plt.savefig(fname = a['name']+pod+'_performance_plot.png')\n",
        "    plt.show()\n",
        "#plot_performance(score_stack, architecture, 'prediction')"
      ],
      "execution_count": 0,
      "outputs": []
    },
    {
      "cell_type": "markdown",
      "metadata": {
        "id": "OwgpV9UaFik7",
        "colab_type": "text"
      },
      "source": [
        "Method for evaluating a model. It requires the same arguments as the `train ` method. The returned `results` contains lists that are used to plot the results. The model score is defined as the Root mean square error for the model on a single series, and should in general be the same as the models' loss function. "
      ]
    },
    {
      "cell_type": "code",
      "metadata": {
        "id": "stM-ADyuFiqv",
        "colab_type": "code",
        "colab": {}
      },
      "source": [
        "    def evaluation(self, stack):\n",
        "        scores = []\n",
        "        speeds = []\n",
        "        damage_states = []\n",
        "        X, Y = generator(self, stack, ['test'])\n",
        "        score = self.model.evaluate(\n",
        "            x = X,\n",
        "            y = Y,\n",
        "            batch_size = self.arch['batch_size'],\n",
        "            verbose = 1,\n",
        "            return_dict = True)\n",
        "        print(score)\n",
        "        speeds.extend([series.speed['km/h']])\n",
        "        scores.extend([score['rmse']])\n",
        "        damage_states.extend([series.damage_state])\n",
        "            \n",
        "        results = {\n",
        "            'scores' : scores[:],\n",
        "            'speeds' : speeds[:],\n",
        "            'steps' : len(speeds[:]),\n",
        "            'damage_state' : damage_states[:]\n",
        "        }\n",
        "        return results\n",
        "    NeuralNet.evaluation = evaluation"
      ],
      "execution_count": 0,
      "outputs": []
    },
    {
      "cell_type": "markdown",
      "metadata": {
        "id": "ihQWKRY94Zm9",
        "colab_type": "text"
      },
      "source": [
        "This piece of code creates a dictionary with the RMSE scores for all available damage states."
      ]
    },
    {
      "cell_type": "code",
      "metadata": {
        "id": "74KVtK5s4ZyA",
        "colab_type": "code",
        "colab": {
          "base_uri": "https://localhost:8080/",
          "height": 370
        },
        "outputId": "450d0454-8db0-4c7f-a88f-de45d226e1c8"
      },
      "source": [
        "score_stack = {}\n",
        "keys = list(series_stack)\n",
        "\n",
        "for j in range(len(keys)):\n",
        "    score_stack.update({\n",
        "        keys[j] : NeuralNet.evaluation(machine_stack[name], series_stack[keys[j]])\n",
        "    })\n",
        "score_stack"
      ],
      "execution_count": 27,
      "outputs": [
        {
          "output_type": "stream",
          "text": [
            "99/99 [==============================] - 0s 3ms/step - loss: 0.0386 - rmse: 0.0386\n",
            "{'loss': 0.03855880722403526, 'rmse': 0.038558803498744965}\n"
          ],
          "name": "stdout"
        },
        {
          "output_type": "error",
          "ename": "NameError",
          "evalue": "ignored",
          "traceback": [
            "\u001b[0;31m---------------------------------------------------------------------------\u001b[0m",
            "\u001b[0;31mNameError\u001b[0m                                 Traceback (most recent call last)",
            "\u001b[0;32m<ipython-input-27-60329ade7ae4>\u001b[0m in \u001b[0;36m<module>\u001b[0;34m()\u001b[0m\n\u001b[1;32m      4\u001b[0m \u001b[0;32mfor\u001b[0m \u001b[0mj\u001b[0m \u001b[0;32min\u001b[0m \u001b[0mrange\u001b[0m\u001b[0;34m(\u001b[0m\u001b[0mlen\u001b[0m\u001b[0;34m(\u001b[0m\u001b[0mkeys\u001b[0m\u001b[0;34m)\u001b[0m\u001b[0;34m)\u001b[0m\u001b[0;34m:\u001b[0m\u001b[0;34m\u001b[0m\u001b[0;34m\u001b[0m\u001b[0m\n\u001b[1;32m      5\u001b[0m     score_stack.update({\n\u001b[0;32m----> 6\u001b[0;31m         \u001b[0mkeys\u001b[0m\u001b[0;34m[\u001b[0m\u001b[0mj\u001b[0m\u001b[0;34m]\u001b[0m \u001b[0;34m:\u001b[0m \u001b[0mNeuralNet\u001b[0m\u001b[0;34m.\u001b[0m\u001b[0mevaluation\u001b[0m\u001b[0;34m(\u001b[0m\u001b[0mmachine_stack\u001b[0m\u001b[0;34m[\u001b[0m\u001b[0mname\u001b[0m\u001b[0;34m]\u001b[0m\u001b[0;34m,\u001b[0m \u001b[0mseries_stack\u001b[0m\u001b[0;34m[\u001b[0m\u001b[0mkeys\u001b[0m\u001b[0;34m[\u001b[0m\u001b[0mj\u001b[0m\u001b[0;34m]\u001b[0m\u001b[0;34m]\u001b[0m\u001b[0;34m)\u001b[0m\u001b[0;34m\u001b[0m\u001b[0;34m\u001b[0m\u001b[0m\n\u001b[0m\u001b[1;32m      7\u001b[0m     })\n\u001b[1;32m      8\u001b[0m \u001b[0mscore_stack\u001b[0m\u001b[0;34m\u001b[0m\u001b[0;34m\u001b[0m\u001b[0m\n",
            "\u001b[0;32m<ipython-input-26-cc232889c131>\u001b[0m in \u001b[0;36mevaluation\u001b[0;34m(self, stack)\u001b[0m\n\u001b[1;32m     11\u001b[0m         return_dict = True)\n\u001b[1;32m     12\u001b[0m     \u001b[0mprint\u001b[0m\u001b[0;34m(\u001b[0m\u001b[0mscore\u001b[0m\u001b[0;34m)\u001b[0m\u001b[0;34m\u001b[0m\u001b[0;34m\u001b[0m\u001b[0m\n\u001b[0;32m---> 13\u001b[0;31m     \u001b[0mspeeds\u001b[0m\u001b[0;34m.\u001b[0m\u001b[0mextend\u001b[0m\u001b[0;34m(\u001b[0m\u001b[0;34m[\u001b[0m\u001b[0mseries\u001b[0m\u001b[0;34m.\u001b[0m\u001b[0mspeed\u001b[0m\u001b[0;34m[\u001b[0m\u001b[0;34m'km/h'\u001b[0m\u001b[0;34m]\u001b[0m\u001b[0;34m]\u001b[0m\u001b[0;34m)\u001b[0m\u001b[0;34m\u001b[0m\u001b[0;34m\u001b[0m\u001b[0m\n\u001b[0m\u001b[1;32m     14\u001b[0m     \u001b[0mscores\u001b[0m\u001b[0;34m.\u001b[0m\u001b[0mextend\u001b[0m\u001b[0;34m(\u001b[0m\u001b[0;34m[\u001b[0m\u001b[0mscore\u001b[0m\u001b[0;34m[\u001b[0m\u001b[0;34m'rmse'\u001b[0m\u001b[0;34m]\u001b[0m\u001b[0;34m]\u001b[0m\u001b[0;34m)\u001b[0m\u001b[0;34m\u001b[0m\u001b[0;34m\u001b[0m\u001b[0m\n\u001b[1;32m     15\u001b[0m     \u001b[0mdamage_states\u001b[0m\u001b[0;34m.\u001b[0m\u001b[0mextend\u001b[0m\u001b[0;34m(\u001b[0m\u001b[0;34m[\u001b[0m\u001b[0mseries\u001b[0m\u001b[0;34m.\u001b[0m\u001b[0mdamage_state\u001b[0m\u001b[0;34m]\u001b[0m\u001b[0;34m)\u001b[0m\u001b[0;34m\u001b[0m\u001b[0;34m\u001b[0m\u001b[0m\n",
            "\u001b[0;31mNameError\u001b[0m: name 'series' is not defined"
          ]
        }
      ]
    },
    {
      "cell_type": "markdown",
      "metadata": {
        "id": "shki8dgn9Wgg",
        "colab_type": "text"
      },
      "source": [
        "Print the prediction on the specified series. "
      ]
    },
    {
      "cell_type": "code",
      "metadata": {
        "id": "bVu5MZQE8mHw",
        "colab_type": "code",
        "colab": {}
      },
      "source": [
        "prediction_manual = {\n",
        "    'series_to_predict' : 12,\n",
        "    'stack' : series_stack['100%']\n",
        "}\n",
        "plot_forecast(forecast(machine_stack['name'], prediction_manual), prediction_manual, architecture)"
      ],
      "execution_count": 0,
      "outputs": []
    },
    {
      "cell_type": "markdown",
      "metadata": {
        "id": "RC5hWOho6Vhw",
        "colab_type": "text"
      },
      "source": [
        "Similarly to how the `evaluation` function evaluate each data series on the predictions made on that series"
      ]
    },
    {
      "cell_type": "code",
      "metadata": {
        "id": "7XxDTrAn6Vre",
        "colab_type": "code",
        "colab": {}
      },
      "source": [
        "    prediction_score = {}\n",
        "    for i in range(len(keys)):\n",
        "        #print(series_stack[keys[i]])\n",
        "        scores = []\n",
        "        speeds = []\n",
        "        damage_states = []\n",
        "        for j in range(len(series_stack[keys[i]][architecture['preprocess_type']])):\n",
        "            if series_stack[keys[i]][architecture['preprocess_type']]['batch'+str(j)].category == 'test':\n",
        "                prediction_manual = {\n",
        "                    'series_to_predict' : j,\n",
        "                    'stack' : series_stack[keys[i]]\n",
        "                }\n",
        "                #prediction = NeuralNet.prediction(machine_stack[name], prediction_manual)\n",
        "                #plot_prediction(prediction, prediction_manual, use)\n",
        "                forecast, tup = NeuralNet.forecast(machine_stack, prediction_manual)\n",
        "                scores.extend([tup[0]])\n",
        "                speeds.extend([tup[1]])\n",
        "                damage_states.extend([tup[2]])\n",
        "            else:\n",
        "                continue\n",
        "        prediction_score.update({\n",
        "            keys[i] : {'scores' : scores, 'speeds' : speeds, 'damage_state' : damage_states}           \n",
        "            })"
      ],
      "execution_count": 0,
      "outputs": []
    }
  ]
}